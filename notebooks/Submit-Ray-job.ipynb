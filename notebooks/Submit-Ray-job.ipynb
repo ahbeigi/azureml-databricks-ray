{
 "cells": [
  {
   "cell_type": "code",
   "execution_count": null,
   "metadata": {},
   "outputs": [],
   "source": [
    "%pip install databricks"
   ]
  },
  {
   "cell_type": "code",
   "execution_count": null,
   "metadata": {},
   "outputs": [],
   "source": [
    "from databricks.sdk import WorkspaceClient\n",
    "from databricks.sdk.service import compute, jobs\n",
    "from azure.identity import DefaultAzureCredential"
   ]
  },
  {
   "cell_type": "code",
   "execution_count": null,
   "metadata": {},
   "outputs": [],
   "source": [
    "# TODO: fill these variables with valid values:\n",
    "uami_client_id = \"\"\n",
    "dbw_host = \"\"\n",
    "\n",
    "credential = DefaultAzureCredential(managed_identity_client_id=uami_client_id)\n",
    "token = credential.get_token(\"2ff814a6-3304-4ab8-85cb-cd0e6f879c1d/.default\")\n",
    "\n",
    "\n",
    "w = WorkspaceClient(host = dbw_host,\n",
    "                    token = token.token)"
   ]
  },
  {
   "cell_type": "code",
   "execution_count": null,
   "metadata": {},
   "outputs": [],
   "source": [
    "local_script_path = 'ray-job.py'\n",
    "dbfs_path = \"/tmp/ray-job.py\"\n",
    "\n",
    "with open(local_script_path, 'rb') as f:\n",
    "    w.dbfs.upload(path=dbfs_path, src=f, overwrite=True)\n",
    "    \n",
    "cluster_config = compute.ClusterSpec(\n",
    "    spark_version=\"15.4.x-cpu-ml-scala2.12\",\n",
    "    node_type_id=\"Standard_D4ds_v5\",\n",
    "    num_workers=1)\n",
    "\n",
    "### Create the job \n",
    "created_job = w.jobs.create(\n",
    "    name='ray-job-on-dbw-01',\n",
    "    tasks=[\n",
    "        jobs.Task(\n",
    "            description=\"Submit Ray Job\",\n",
    "            new_cluster=cluster_config,\n",
    "            spark_python_task=jobs.SparkPythonTask(\n",
    "                python_file=f'dbfs:{dbfs_path }',\n",
    "                parameters=[]\n",
    "            ),\n",
    "            task_key=\"ray_job_task\",\n",
    "            timeout_seconds=0,\n",
    "        )\n",
    "    ]\n",
    ")\n",
    "\n",
    "print(f\"Job submitted successfully. Job ID: {created_job.job_id}\")\n",
    "\n",
    "### Run the job\n",
    "# run_response = w.jobs.run_now(job_id=created_job.job_id)\n",
    "run_response = w.jobs.run_now_and_wait(job_id=created_job.job_id)\n",
    "\n",
    "\n",
    "print(f\"Job run triggered successfully. Run ID: {run_response.run_id}\")"
   ]
  }
 ],
 "metadata": {
  "language_info": {
   "name": "python"
  }
 },
 "nbformat": 4,
 "nbformat_minor": 2
}
